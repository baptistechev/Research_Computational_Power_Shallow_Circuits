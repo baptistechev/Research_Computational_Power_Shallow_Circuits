{
 "cells": [
  {
   "cell_type": "code",
   "execution_count": 1211,
   "metadata": {},
   "outputs": [],
   "source": [
    "from qiskit import QuantumCircuit, ClassicalRegister, QuantumRegister\n",
    "from qiskit_aer import Aer\n",
    "from qiskit.circuit import Parameter\n",
    "import numpy as np\n",
    "from qiskit.quantum_info import Statevector\n",
    "import matplotlib.pyplot as plt\n",
    "import pandas as pd\n",
    "import random"
   ]
  },
  {
   "cell_type": "code",
   "execution_count": 3,
   "metadata": {},
   "outputs": [
    {
     "name": "stdout",
     "output_type": "stream",
     "text": [
      "   ┌──────────────────┐┌───────────────┐┌───────────────┐\n",
      "q: ┤ U(3π/2,-π/2,π/2) ├┤ U(0,-π/2,π/2) ├┤ U(0,-π/2,π/2) ├\n",
      "   └──────────────────┘└───────────────┘└───────────────┘\n",
      "0.5 0.5\n"
     ]
    }
   ],
   "source": [
    "x1 = 0 #0->3 for 00,01,10,11\n",
    "x2 = 0\n",
    "x3 = 0\n",
    "\n",
    "qc = QuantumCircuit(1)\n",
    "qc.u(x1*np.pi/2,-np.pi/2,np.pi/2,0)\n",
    "qc.u(x2*np.pi/2,-np.pi/2,np.pi/2,0)\n",
    "qc.u(x3*np.pi/2,-np.pi/2,np.pi/2,0)\n",
    "print(qc.draw())\n",
    "\n",
    "output = Statevector.from_instruction(qc).to_dict()\n",
    "p0,p1 = 0,0\n",
    "if '0' in output.keys():\n",
    "    p0 = np.round(np.abs(output['0'])**2,decimals=4)\n",
    "if '1' in output.keys():\n",
    "    p1 = np.round(np.abs(output['1'])**2,decimals=4)\n",
    "print(p0,p1)"
   ]
  },
  {
   "cell_type": "code",
   "execution_count": 1291,
   "metadata": {},
   "outputs": [],
   "source": [
    "def circuit_run(x1,x2,x3):\n",
    "    qc = QuantumCircuit(1)\n",
    "    qc.u(x1*np.pi/2,-np.pi/2,np.pi/2,0)\n",
    "    qc.u(x2*np.pi/2,-np.pi/2,np.pi/2,0)\n",
    "    qc.u(x3*np.pi/2,-np.pi/2,np.pi/2,0)\n",
    "    \n",
    "    output = Statevector.from_instruction(qc).to_dict()\n",
    "    p0,p1 = 0,0\n",
    "    if '0' in output.keys():\n",
    "        p0 = np.round(np.abs(output['0'])**2,decimals=4)\n",
    "    if '1' in output.keys():\n",
    "        p1 = np.round(np.abs(output['1'])**2,decimals=4)\n",
    "    \n",
    "    if p0==1:\n",
    "        return 0\n",
    "    elif p1==1:\n",
    "        return 1\n",
    "    else:\n",
    "        return 'x'"
   ]
  },
  {
   "cell_type": "code",
   "execution_count": 730,
   "metadata": {},
   "outputs": [],
   "source": [
    "def permutation(lst):\n",
    " \n",
    "    # If lst is empty then there are no permutations\n",
    "    if len(lst) == 0:\n",
    "        return []\n",
    " \n",
    "    # If there is only one element in lst then, only\n",
    "    # one permutation is possible\n",
    "    if len(lst) == 1:\n",
    "        return [lst]\n",
    " \n",
    "    # Find the permutations for lst if there are\n",
    "    # more than 1 characters\n",
    " \n",
    "    l = [] # empty list that will store current permutation\n",
    " \n",
    "    # Iterate the input(lst) and calculate the permutation\n",
    "    for i in range(len(lst)):\n",
    "       m = lst[i]\n",
    " \n",
    "       # Extract lst[i] or m from the list.  remLst is\n",
    "       # remaining list\n",
    "       remLst = lst[:i] + lst[i+1:]\n",
    " \n",
    "       # Generating all permutations where m is first\n",
    "       # element\n",
    "       for p in permutation(remLst):\n",
    "           l.append([m] + p)\n",
    "    return l"
   ]
  },
  {
   "cell_type": "code",
   "execution_count": 728,
   "metadata": {},
   "outputs": [],
   "source": [
    "def f(x,b,lamb):\n",
    "\n",
    "    data = list('0123')\n",
    "    perm = permutation(data)\n",
    "    strategy = perm[lamb]\n",
    "    x = int(strategy[x])\n",
    "\n",
    "    if x==0:\n",
    "        return 0\n",
    "    if x==1:\n",
    "        return 1\n",
    "    if x==2:\n",
    "        return b\n",
    "    if x==3:\n",
    "        return 1-b\n",
    "\n",
    "def classical_circuit_run(x1,x2,lambda1,lambda2):\n",
    "    b = 0\n",
    "    b = f(x1,b,lambda1)\n",
    "    b = f(x2,b,lambda2)\n",
    "    return b"
   ]
  },
  {
   "cell_type": "code",
   "execution_count": 1292,
   "metadata": {},
   "outputs": [],
   "source": [
    "def hamming_distance(class_dist,quant_dist):\n",
    "    count = 0\n",
    "    for x,y in zip(class_dist,quant_dist):\n",
    "        if y!='x':\n",
    "            count += (x!=y)\n",
    "    return count"
   ]
  },
  {
   "cell_type": "code",
   "execution_count": 1297,
   "metadata": {},
   "outputs": [
    {
     "data": {
      "text/plain": [
       "[0,\n",
       " 'x',\n",
       " 1,\n",
       " 'x',\n",
       " 'x',\n",
       " 1,\n",
       " 'x',\n",
       " 0,\n",
       " 1,\n",
       " 'x',\n",
       " 0,\n",
       " 'x',\n",
       " 'x',\n",
       " 0,\n",
       " 'x',\n",
       " 1,\n",
       " 'x',\n",
       " 1,\n",
       " 'x',\n",
       " 0,\n",
       " 1,\n",
       " 'x',\n",
       " 0,\n",
       " 'x',\n",
       " 'x',\n",
       " 0,\n",
       " 'x',\n",
       " 1,\n",
       " 0,\n",
       " 'x',\n",
       " 1,\n",
       " 'x',\n",
       " 1,\n",
       " 'x',\n",
       " 0,\n",
       " 'x',\n",
       " 'x',\n",
       " 0,\n",
       " 'x',\n",
       " 1,\n",
       " 0,\n",
       " 'x',\n",
       " 1,\n",
       " 'x',\n",
       " 'x',\n",
       " 1,\n",
       " 'x',\n",
       " 0,\n",
       " 'x',\n",
       " 0,\n",
       " 'x',\n",
       " 1,\n",
       " 0,\n",
       " 'x',\n",
       " 1,\n",
       " 'x',\n",
       " 'x',\n",
       " 1,\n",
       " 'x',\n",
       " 0,\n",
       " 1,\n",
       " 'x',\n",
       " 0,\n",
       " 'x']"
      ]
     },
     "execution_count": 1297,
     "metadata": {},
     "output_type": "execute_result"
    }
   ],
   "source": [
    "#quantum\n",
    "quant_dist = []\n",
    "for x1 in range(4):\n",
    "    for x2 in range(4):\n",
    "        for x3 in range(4):\n",
    "            quant_dist.append(circuit_run(x1,x2,x3))\n",
    "quant_dist"
   ]
  },
  {
   "cell_type": "code",
   "execution_count": 737,
   "metadata": {},
   "outputs": [
    {
     "name": "stdout",
     "output_type": "stream",
     "text": [
      "2\n",
      "[0, 0, 1, 1, 0, 1, 1, 0, 0, 1, 1, 0, 0, 0, 1, 1]\n"
     ]
    }
   ],
   "source": [
    "#classical\n",
    "best_ham = 20\n",
    "for lamb1 in range(24):\n",
    "    for lamb2 in range(24):\n",
    "\n",
    "        class_dist = []\n",
    "        for x1 in range(4):\n",
    "            for x2 in range(4):\n",
    "                class_dist.append(classical_circuit_run(x1,x2,lamb1,lamb2))\n",
    "        \n",
    "        ham = hamming_distance(class_dist,quant_dist)\n",
    "        if best_ham > ham:\n",
    "            best_ham = ham\n",
    "            best_dist = class_dist\n",
    "print(best_ham)\n",
    "print(best_dist)"
   ]
  },
  {
   "cell_type": "code",
   "execution_count": 319,
   "metadata": {},
   "outputs": [
    {
     "name": "stdout",
     "output_type": "stream",
     "text": [
      "9\n",
      "11\n",
      "[0, 0, 1, 1, 0, 1, 1, 0, 0, 1, 1, 0, 0, 0, 1, 1]\n",
      "[0, 'x', 1, 'x', 'x', 1, 'x', 0, 1, 'x', 0, 'x', 'x', 0, 'x', 1]\n"
     ]
    }
   ],
   "source": [
    "cpt = 1\n",
    "for x,y in zip(best_dist,quant_dist):\n",
    "    if y!='x' and (x!=y):\n",
    "        print(cpt)\n",
    "    cpt+=1\n",
    "\n",
    "print(best_dist)\n",
    "print(quant_dist)"
   ]
  },
  {
   "cell_type": "markdown",
   "metadata": {},
   "source": [
    "<h2>Conversion to MBQC</h2>"
   ]
  },
  {
   "cell_type": "code",
   "execution_count": 5,
   "metadata": {},
   "outputs": [
    {
     "name": "stderr",
     "output_type": "stream",
     "text": [
      "/home/baptiste/Documents/.venv/lib/python3.12/site-packages/cotengra/hyperoptimizers/hyper.py:33: UserWarning: Couldn't import `kahypar` - skipping from default hyper optimizer and using basic `labels` method instead.\n",
      "  warnings.warn(\n"
     ]
    }
   ],
   "source": [
    "from graphix.transpiler import Circuit\n",
    "import graphix as graph"
   ]
  },
  {
   "cell_type": "code",
   "execution_count": 684,
   "metadata": {},
   "outputs": [
    {
     "name": "stdout",
     "output_type": "stream",
     "text": [
      "The pattern is not consistent with flow or gflow structure.\n"
     ]
    },
    {
     "data": {
      "image/png": "[encoded data removed]",
      "text/plain": [
       "<Figure size 780x100 with 1 Axes>"
      ]
     },
     "metadata": {},
     "output_type": "display_data"
    },
    {
     "name": "stdout",
     "output_type": "stream",
     "text": [
      "N, node = 1\n",
      "N, node = 2\n",
      "E, nodes = (0, 1)\n",
      "E, nodes = (1, 2)\n",
      "M, node = 0, plane = Plane.XY, angle(pi) = 0.0, s_domain = set(), t_domain = set()\n",
      "M, node = 1, plane = Plane.XY, angle(pi) = -0.0, s_domain = {0}, t_domain = set()\n",
      "X byproduct, node = 2, domain = {1}\n",
      "Z byproduct, node = 2, domain = {0}\n",
      "N, node = 3\n",
      "N, node = 4\n",
      "E, nodes = (2, 3)\n",
      "E, nodes = (3, 4)\n",
      "M, node = 2, plane = Plane.XY, angle(pi) = 0.0, s_domain = set(), t_domain = set()\n",
      "M, node = 3, plane = Plane.XY, angle(pi) = -0.0, s_domain = {2}, t_domain = set()\n",
      "X byproduct, node = 4, domain = {3}\n",
      "Z byproduct, node = 4, domain = {2}\n"
     ]
    }
   ],
   "source": [
    "x1 = 0 #0->3 for 00,01,10,11\n",
    "x2 = 0\n",
    "\n",
    "circuit = Circuit(1)\n",
    "circuit.rx(0,x1*np.pi/2)\n",
    "circuit.rx(0,x2*np.pi/2)\n",
    "\n",
    "pattern = circuit.transpile().pattern\n",
    "# pattern.standardize()\n",
    "# pattern.shift_signals()\n",
    "pattern.draw_graph()\n",
    "pattern.print_pattern()\n",
    "\n",
    "# print(graph.gflow.flow_from_pattern(pattern))\n",
    "# print(graph.gflow.gflow_from_pattern(pattern))\n",
    "# print(graph.gflow.pauliflow_from_pattern(pattern))"
   ]
  },
  {
   "cell_type": "code",
   "execution_count": 678,
   "metadata": {},
   "outputs": [
    {
     "name": "stdout",
     "output_type": "stream",
     "text": [
      "No flow or gflow detected in the graph.\n"
     ]
    },
    {
     "data": {
      "image/png": "[encoded data removed]",
      "text/plain": [
       "<Figure size 400x100 with 1 Axes>"
      ]
     },
     "metadata": {},
     "output_type": "display_data"
    },
    {
     "name": "stdout",
     "output_type": "stream",
     "text": [
      "N, node = 1\n",
      "N, node = 2\n",
      "N, node = 3\n",
      "N, node = 4\n",
      "E, nodes = (0, 3)\n",
      "E, nodes = (0, 1)\n",
      "E, nodes = (1, 2)\n",
      "E, nodes = (2, 3)\n",
      "E, nodes = (3, 4)\n",
      "M, node = 0, plane = Plane.XY, angle(pi) = 0.0, s_domain = set(), t_domain = set()\n",
      "M, node = 1, plane = Plane.XY, angle(pi) = -1.0, s_domain = {0}, t_domain = set()\n",
      "M, node = 2, plane = Plane.XY, angle(pi) = 0.0, s_domain = {1}, t_domain = set()\n",
      "M, node = 3, plane = Plane.XY, angle(pi) = -1.0, s_domain = {0, 2}, t_domain = set()\n",
      "X byproduct, node = 4, domain = {1, 3}\n",
      "Z byproduct, node = 4, domain = {0, 2}\n"
     ]
    }
   ],
   "source": [
    "x1 = 2 #0->3 for 00,01,10,11\n",
    "x2 = 2\n",
    "\n",
    "circuit = Circuit(1)\n",
    "circuit.rx(0,x1*np.pi/2)\n",
    "circuit.rx(0,x2*np.pi/2)\n",
    "\n",
    "pattern = circuit.transpile().pattern\n",
    "pattern.standardize()\n",
    "pat_list = list(pattern)\n",
    "pat_list.insert(4,graph.command.E(nodes=(0,3)))\n",
    "pattern = graph.pattern.Pattern(input_nodes=[0])\n",
    "pattern.extend(pat_list)\n",
    "pattern.standardize()\n",
    "pattern.shift_signals()\n",
    "pattern.draw_graph(flow_from_pattern=False)\n",
    "pattern.print_pattern()"
   ]
  },
  {
   "cell_type": "code",
   "execution_count": 643,
   "metadata": {},
   "outputs": [],
   "source": [
    "def run_pattern_normal(x1,x2,x3,loop=False):\n",
    "    circuit = Circuit(1)\n",
    "    circuit.rx(0,x1*np.pi/2)\n",
    "    circuit.rx(0,x2*np.pi/2)\n",
    "    circuit.rx(0,x3*np.pi/2)\n",
    "    pattern = circuit.transpile().pattern\n",
    "    pattern.standardize()\n",
    "\n",
    "    if loop:\n",
    "        pat_list = list(pattern)\n",
    "        pat_list.insert(6,graph.command.E(nodes=(0,3)))\n",
    "        pattern = graph.pattern.Pattern(input_nodes=[0])\n",
    "        pattern.extend(pat_list)\n",
    "        pattern.standardize()\n",
    "\n",
    "    res = pattern.simulate_pattern(input_state=graph.states.PlanarState(plane=graph.pauli.Plane.XZ, angle=0.0)).psi\n",
    "    p0 = np.round(np.abs(res[0])**2,decimals=4)\n",
    "    p1 = np.round(np.abs(res[1])**2,decimals=4)\n",
    "    \n",
    "    if p0==1:\n",
    "        return 0\n",
    "    elif p1==1:\n",
    "        return 1\n",
    "    else:\n",
    "        return 'x'"
   ]
  },
  {
   "cell_type": "code",
   "execution_count": 644,
   "metadata": {},
   "outputs": [
    {
     "name": "stdout",
     "output_type": "stream",
     "text": [
      "0\n",
      "0\n"
     ]
    }
   ],
   "source": [
    "no_loop = []\n",
    "loop = []\n",
    "for x1 in range(4):\n",
    "    for x2 in range(4):\n",
    "        for x3 in range(4):\n",
    "            no_loop.append(run_pattern_normal(x1,x2,x3))\n",
    "            loop.append(run_pattern_normal(x1,x2,x3,loop=True))\n",
    "print(hamming_distance(no_loop,quant_dist))\n",
    "print(hamming_distance(no_loop,loop))"
   ]
  },
  {
   "cell_type": "code",
   "execution_count": 471,
   "metadata": {},
   "outputs": [
    {
     "name": "stdout",
     "output_type": "stream",
     "text": [
      "Flow detected in the graph.\n"
     ]
    },
    {
     "data": {
      "image/png": "[encoded data removed]",
      "text/plain": [
       "<Figure size 880x200 with 1 Axes>"
      ]
     },
     "metadata": {},
     "output_type": "display_data"
    }
   ],
   "source": [
    "x1 = 2 #0->3 for 00,01,10,11\n",
    "x2 = 2\n",
    "x3 = 2\n",
    "x4 = 2\n",
    "x5 = 2\n",
    "x6 = 2\n",
    "\n",
    "circuit = Circuit(2)\n",
    "circuit.cnot(0,1)\n",
    "circuit.rx(0,x1*np.pi/2)\n",
    "circuit.rx(1,x2*np.pi/2)\n",
    "circuit.cnot(0,1)\n",
    "circuit.rx(0,x3*np.pi/2)\n",
    "circuit.rx(1,x4*np.pi/2)\n",
    "circuit.cnot(0,1)\n",
    "\n",
    "pattern = circuit.transpile().pattern\n",
    "pattern.standardize()\n",
    "pattern.shift_signals()\n",
    "pattern.draw_graph(flow_from_pattern=False)\n",
    "# pattern.print_pattern()"
   ]
  },
  {
   "cell_type": "markdown",
   "metadata": {},
   "source": [
    "<h2>FLOW</h2>"
   ]
  },
  {
   "cell_type": "code",
   "execution_count": null,
   "metadata": {},
   "outputs": [
    {
     "data": {
      "text/plain": [
       "(None, None)"
      ]
     },
     "metadata": {},
     "output_type": "display_data"
    },
    {
     "data": {
      "image/png": "[encoded data removed]",
      "text/plain": [
       "<Figure size 640x480 with 1 Axes>"
      ]
     },
     "metadata": {},
     "output_type": "display_data"
    }
   ],
   "source": [
    "n = 4\n",
    "my_nodes = list(np.arange(1,n+2))\n",
    "my_edges = [(1,2),(2,3),(3,4),(4,5),(1,4)]\n",
    "\n",
    "gs = graph.graphsim.GraphState(nodes=my_nodes,edges=my_edges)\n",
    "planes = {}\n",
    "angles = {}\n",
    "for n in my_nodes:\n",
    "    planes[n] = graph.pauli.Plane.XY\n",
    "    angles[n] = 0.0\n",
    "gs.draw()\n",
    "graph.gflow.find_pauliflow(gs.graph,iset=set([1]),oset=set([5]),meas_planes=planes,meas_angles=angles)"
   ]
  },
  {
   "cell_type": "code",
   "execution_count": 568,
   "metadata": {},
   "outputs": [
    {
     "name": "stdout",
     "output_type": "stream",
     "text": [
      "The pattern is not consistent with flow or gflow structure.\n"
     ]
    },
    {
     "data": {
      "image/png": "[encoded data removed]",
      "text/plain": [
       "<Figure size 780x100 with 1 Axes>"
      ]
     },
     "metadata": {},
     "output_type": "display_data"
    },
    {
     "data": {
      "text/plain": [
       "array([0.5+0.5j, 0.5-0.5j])"
      ]
     },
     "execution_count": 568,
     "metadata": {},
     "output_type": "execute_result"
    }
   ],
   "source": [
    "x1 = 0\n",
    "x2 = 3\n",
    "\n",
    "pattern = graph.pattern.Pattern([0])\n",
    "for i in range(1,5):\n",
    "    pattern.add(graph.command.N(node=i))\n",
    "\n",
    "pattern.add(graph.command.E(nodes=(0,1)))\n",
    "pattern.add(graph.command.E(nodes=(1,2)))\n",
    "pattern.add(graph.command.E(nodes=(2,3)))\n",
    "pattern.add(graph.command.E(nodes=(3,4)))\n",
    "pattern.add(graph.command.E(nodes=(0,3)))\n",
    "\n",
    "pattern.add(graph.command.M(node=0, angle=0))\n",
    "pattern.add(graph.command.X(node=1,domain=[0]))\n",
    "pattern.add(graph.command.Z(node=2,domain=[0]))\n",
    "\n",
    "pattern.add(graph.command.M(node=1,angle=x1/2))\n",
    "pattern.add(graph.command.X(node=2,domain=[1]))\n",
    "pattern.add(graph.command.Z(node=3,domain=[1]))\n",
    "\n",
    "pattern.add(graph.command.M(node=2,angle=0))\n",
    "pattern.add(graph.command.X(node=3,domain=[2]))\n",
    "pattern.add(graph.command.Z(node=4,domain=[2]))\n",
    "\n",
    "pattern.add(graph.command.M(node=3,angle=x2/2))\n",
    "pattern.add(graph.command.X(node=4,domain=[3]))\n",
    "\n",
    "# pattern.standardize()\n",
    "\n",
    "pattern.draw_graph()\n",
    "# pattern.print_pattern()\n",
    "\n",
    "pattern.simulate_pattern(input_state=graph.states.PlanarState(plane=graph.pauli.Plane.XZ, angle=0.0)).psi"
   ]
  },
  {
   "cell_type": "code",
   "execution_count": 673,
   "metadata": {},
   "outputs": [],
   "source": [
    "def run_pattern_rough_psi(x1,x2,x3,loop=False):\n",
    "    pattern = graph.pattern.Pattern([0])\n",
    "    for i in range(1,7):\n",
    "        pattern.add(graph.command.N(node=i))\n",
    "\n",
    "    pattern.add(graph.command.E(nodes=(0,1)))\n",
    "    pattern.add(graph.command.E(nodes=(1,2)))\n",
    "    pattern.add(graph.command.E(nodes=(2,3)))\n",
    "    pattern.add(graph.command.E(nodes=(3,4)))\n",
    "    pattern.add(graph.command.E(nodes=(4,5)))\n",
    "    pattern.add(graph.command.E(nodes=(5,6)))\n",
    "\n",
    "    if loop:\n",
    "        pattern.add(graph.command.E(nodes=(0,5)))\n",
    "\n",
    "    pattern.add(graph.command.M(node=0, angle=0))\n",
    "    pattern.add(graph.command.X(node=1,domain=[0]))\n",
    "    pattern.add(graph.command.Z(node=2,domain=[0]))\n",
    "\n",
    "    pattern.add(graph.command.M(node=1,angle=x1/2))\n",
    "    pattern.add(graph.command.X(node=2,domain=[1]))\n",
    "    pattern.add(graph.command.Z(node=3,domain=[1]))\n",
    "\n",
    "    pattern.add(graph.command.M(node=2,angle=0))\n",
    "    pattern.add(graph.command.X(node=3,domain=[2]))\n",
    "    pattern.add(graph.command.Z(node=4,domain=[2]))\n",
    "\n",
    "    pattern.add(graph.command.M(node=3,angle=x2/2))\n",
    "    pattern.add(graph.command.X(node=4,domain=[3]))\n",
    "    pattern.add(graph.command.Z(node=5,domain=[3]))\n",
    "\n",
    "    pattern.add(graph.command.M(node=4,angle=0))\n",
    "    pattern.add(graph.command.X(node=5,domain=[4]))\n",
    "    pattern.add(graph.command.Z(node=6,domain=[4]))\n",
    "\n",
    "    pattern.add(graph.command.M(node=5,angle=x3/2))\n",
    "    pattern.add(graph.command.X(node=6,domain=[5]))\n",
    "\n",
    "    res = pattern.simulate_pattern(input_state=graph.states.PlanarState(plane=graph.pauli.Plane.XZ, angle=0.0)).psi\n",
    "    p0 = np.round(np.abs(res[0])**2,decimals=4)\n",
    "    p1 = np.round(np.abs(res[1])**2,decimals=4)\n",
    "\n",
    "    return res\n",
    "\n",
    "def run_pattern_rough(x1,x2,x3,loop=False):\n",
    "    pattern = graph.pattern.Pattern([0])\n",
    "    for i in range(1,7):\n",
    "        pattern.add(graph.command.N(node=i))\n",
    "\n",
    "    pattern.add(graph.command.E(nodes=(0,1)))\n",
    "    pattern.add(graph.command.E(nodes=(1,2)))\n",
    "    pattern.add(graph.command.E(nodes=(2,3)))\n",
    "    pattern.add(graph.command.E(nodes=(3,4)))\n",
    "    pattern.add(graph.command.E(nodes=(4,5)))\n",
    "    pattern.add(graph.command.E(nodes=(5,6)))\n",
    "\n",
    "    if loop:\n",
    "        pattern.add(graph.command.E(nodes=(0,5)))\n",
    "\n",
    "    pattern.add(graph.command.M(node=0, angle=0))\n",
    "    pattern.add(graph.command.X(node=1,domain=[0]))\n",
    "    pattern.add(graph.command.Z(node=2,domain=[0]))\n",
    "\n",
    "    pattern.add(graph.command.M(node=1,angle=x1/2))\n",
    "    pattern.add(graph.command.X(node=2,domain=[1]))\n",
    "    pattern.add(graph.command.Z(node=3,domain=[1]))\n",
    "\n",
    "    pattern.add(graph.command.M(node=2,angle=0))\n",
    "    pattern.add(graph.command.X(node=3,domain=[2]))\n",
    "    pattern.add(graph.command.Z(node=4,domain=[2]))\n",
    "\n",
    "    pattern.add(graph.command.M(node=3,angle=x2/2))\n",
    "    pattern.add(graph.command.X(node=4,domain=[3]))\n",
    "    pattern.add(graph.command.Z(node=5,domain=[3]))\n",
    "\n",
    "    pattern.add(graph.command.M(node=4,angle=0))\n",
    "    pattern.add(graph.command.X(node=5,domain=[4]))\n",
    "    pattern.add(graph.command.Z(node=6,domain=[4]))\n",
    "\n",
    "    pattern.add(graph.command.M(node=5,angle=x3/2))\n",
    "    pattern.add(graph.command.X(node=6,domain=[5]))\n",
    "\n",
    "    res = pattern.simulate_pattern(input_state=graph.states.PlanarState(plane=graph.pauli.Plane.XZ, angle=0.0)).psi\n",
    "    p0 = np.round(np.abs(res[0])**2,decimals=4)\n",
    "    p1 = np.round(np.abs(res[1])**2,decimals=4)\n",
    "\n",
    "    if p0==1:\n",
    "        return 0\n",
    "    elif p1==1:\n",
    "        return 1\n",
    "    else:\n",
    "        return 'x'"
   ]
  },
  {
   "cell_type": "code",
   "execution_count": 674,
   "metadata": {},
   "outputs": [
    {
     "name": "stdout",
     "output_type": "stream",
     "text": [
      "0.0\n",
      "0.0\n",
      "0.0\n",
      "0.0\n",
      "0.0\n",
      "0.0\n",
      "0.0\n",
      "0.0\n",
      "0.0\n",
      "0.0\n",
      "0.0\n",
      "0.0\n",
      "0.0\n",
      "0.0\n",
      "0.0\n",
      "0.0\n",
      "1.5700924586837752e-16\n",
      "1.1775693440128312e-16\n",
      "0.0\n",
      "0.0\n",
      "1.1775693440128314e-16\n",
      "0.0\n",
      "1.1775693440128314e-16\n",
      "0.0\n",
      "0.0\n",
      "1.1775693440128312e-16\n",
      "0.0\n",
      "1.1775693440128312e-16\n",
      "0.0\n",
      "0.0\n",
      "1.1775693440128317e-16\n",
      "0.0\n",
      "0.0\n",
      "0.0\n",
      "0.0\n",
      "0.0\n",
      "0.0\n",
      "0.0\n",
      "0.0\n",
      "0.0\n",
      "0.0\n",
      "0.0\n",
      "0.0\n",
      "0.0\n",
      "0.0\n",
      "0.0\n",
      "0.0\n",
      "0.0\n",
      "0.0\n",
      "0.0\n",
      "0.0\n",
      "0.0\n",
      "0.0\n",
      "0.0\n",
      "6.972611193684198e-32\n",
      "0.0\n",
      "0.0\n",
      "0.0\n",
      "0.0\n",
      "0.0\n",
      "0.0\n",
      "0.0\n",
      "0.0\n",
      "0.0\n"
     ]
    }
   ],
   "source": [
    "for x1 in range(4):\n",
    "    for x2 in range(4):\n",
    "        for x3 in range(4):\n",
    "            print(np.linalg.norm(run_pattern_rough_psi(x1,x2,x3) - run_pattern_rough_psi(x1,x2,x3,loop=True)))"
   ]
  },
  {
   "cell_type": "code",
   "execution_count": 645,
   "metadata": {},
   "outputs": [
    {
     "name": "stdout",
     "output_type": "stream",
     "text": [
      "0\n",
      "0\n",
      "0\n"
     ]
    }
   ],
   "source": [
    "d1 = []\n",
    "d2 = []\n",
    "d3 = []\n",
    "d4 = []\n",
    "for x1 in range(4):\n",
    "    for x2 in range(4):\n",
    "        for x3 in range(4):\n",
    "            d1.append(run_pattern_normal(x1,x2,x3))\n",
    "            d2.append(run_pattern_rough(x1,x2,x3))\n",
    "            d3.append(run_pattern_rough(x1,x2,x3,loop=True))\n",
    "            d4.append(run_pattern_normal(x1,x2,x3,loop=True))\n",
    "print(hamming_distance(d1,d2))\n",
    "print(hamming_distance(d2,d3))\n",
    "print(hamming_distance(d2,d4))"
   ]
  },
  {
   "cell_type": "code",
   "execution_count": 667,
   "metadata": {},
   "outputs": [
    {
     "name": "stdout",
     "output_type": "stream",
     "text": [
      "0.29887626494719854\n",
      "[0.64201779-0.32949078j 0.60883891+0.32949078j]\n",
      "[0.52514251-0.49936745j 0.47485749+0.49936745j]\n",
      "0.2988762649471985\n",
      "[0.83723258+0.25293942j 0.41362412-0.25293942j]\n",
      "[0.82100486+0.38334825j 0.17899514-0.38334825j]\n",
      "0.29887626494719866\n",
      "[0.31008138+0.09693126j 0.94077532-0.09693126j]\n",
      "[0.02206852+0.14690644j 0.97793148-0.14690644j]\n",
      "0.2988762649471986\n",
      "[0.53684105+0.31779187j 0.71401565-0.31779187j]\n",
      "[0.36573944+0.4816369j 0.63426056-0.4816369j]\n",
      "0.29887626494719854\n",
      "[0.42654548-0.26322041j 0.82431122+0.26322041j]\n",
      "[0.19857841-0.39892985j 0.80142159+0.39892985j]\n",
      "0.29887626494719843\n",
      "[0.30117721-0.06083241j 0.94967948+0.06083241j]\n",
      "[0.00857361-0.09219598j 0.99142639+0.09219598j]\n",
      "0.2988762649471986\n",
      "[0.9005701-0.18203406j 0.3502866+0.18203406j]\n",
      "[0.91699752-0.27588597j 0.08300248+0.27588597j]\n",
      "0.29887626494719854\n",
      "[0.29883833+0.0466727j 0.95201837-0.0466727j]\n",
      "[0.00502886+0.0707359j 0.99497114-0.0707359j]\n",
      "0.2988762649471984\n",
      "[0.85930135-0.23268606j 0.39155535+0.23268606j]\n",
      "[0.85445169-0.3526528j 0.14554831+0.3526528j]\n",
      "0.2988762649471984\n",
      "[0.9262792+0.13538149j 0.3245775-0.13538149j]\n",
      "[0.95596154+0.20518058j 0.04403846-0.20518058j]\n",
      "0.2988762649471984\n",
      "[0.55223569+0.32168652j 0.69862101-0.32168652j]\n",
      "[0.38907116+0.48753953j 0.61092884-0.48753953j]\n",
      "0.2988762649471986\n",
      "[0.44254091-0.27457525j 0.80831579+0.27457525j]\n",
      "[0.22282067-0.41613894j 0.77717933+0.41613894j]\n",
      "0.29887626494719843\n",
      "[0.32441343-0.13501631j 0.92644326+0.13501631j]\n",
      "[0.04378981-0.20462712j 0.95621019+0.20462712j]\n",
      "0.2988762649471983\n",
      "[0.58454853+0.32736558j 0.66630817-0.32736558j]\n",
      "[0.43804363+0.49614656j 0.56195637-0.49614656j]\n",
      "0.2988762649471983\n",
      "[0.29570164-0.01093971j 0.95515506+0.01093971j]\n",
      "[2.74969719e-04-0.01657993j 9.99725030e-01+0.01657993j]\n",
      "0.29887626494719843\n",
      "[0.68036816-0.3253014j 0.57048853+0.3253014j]\n",
      "[0.58326532-0.49301814j 0.41673468+0.49301814j]\n",
      "0.29887626494719854\n",
      "[0.66735455-0.32723321j 0.58350214+0.32723321j]\n",
      "[0.56354224-0.49594595j 0.43645776+0.49594595j]\n",
      "0.2988762649471984\n",
      "[0.73598648+0.31083159j 0.51487021-0.31083159j]\n",
      "[0.66755897+0.47108809j 0.33244103-0.47108809j]\n",
      "0.2988762649471987\n",
      "[0.45748305+0.28396084j 0.79337365-0.28396084j]\n",
      "[0.24546658+0.43036349j 0.75453342-0.43036349j]\n",
      "0.2988762649471985\n",
      "[0.77848729+0.2922539j 0.4723694 -0.2922539j]\n",
      "[0.73197207+0.44293223j 0.26802793-0.44293223j]\n",
      "0.2988762649471985\n",
      "[0.80496856+0.27677553j 0.44588814-0.27677553j]\n",
      "[0.77210637+0.41947363j 0.22789363-0.41947363j]\n",
      "0.2988762649471986\n",
      "[0.71813042-0.31661602j 0.53272627+0.31661602j]\n",
      "[0.6404968-0.47985482j 0.3595032+0.47985482j]\n",
      "0.29887626494719854\n",
      "[0.95444322+0.02426094j 0.29641347-0.02426094j]\n",
      "[0.99864619+0.03676923j 0.00135381-0.03676923j]\n",
      "0.2988762649471983\n",
      "[0.45187714-0.28056971j 0.79897956+0.28056971j]\n",
      "[0.23697041-0.42522398j 0.76302959+0.42522398j]\n",
      "0.29887626494719843\n",
      "[0.29552326-0.00141921j 0.95533344+0.00141921j]\n",
      "[4.62648069e-06-0.00215092j 9.99995374e-01+0.00215092j]\n",
      "0.2988762649471985\n",
      "[0.74584292-0.3071477j 0.50501377+0.3071477j]\n",
      "[0.68249713-0.46550489j 0.31750287+0.46550489j]\n",
      "0.29887626494719854\n",
      "[0.78971694+0.28609202j 0.46113976-0.28609202j]\n",
      "[0.74899141+0.43359345j 0.25100859-0.43359345j]\n",
      "0.2988762649471986\n",
      "[0.42526231+0.26224595j 0.82559439-0.26224595j]\n",
      "[0.19663368+0.39745299j 0.80336632-0.39745299j]\n",
      "0.2988762649471986\n",
      "[0.38166565-0.22230413j 0.86919105+0.22230413j]\n",
      "[0.13055974-0.33691823j 0.86944026+0.33691823j]\n",
      "0.29887626494719843\n",
      "[0.3060437-0.08266092j 0.944813 +0.08266092j]\n",
      "[0.01594912-0.12527868j 0.98405088+0.12527868j]\n"
     ]
    }
   ],
   "source": [
    "def run_pattern_rough_continuous_psi(x1,x2,x3,loop=False):\n",
    "    pattern = graph.pattern.Pattern([0])\n",
    "    for i in range(1,7):\n",
    "        pattern.add(graph.command.N(node=i))\n",
    "\n",
    "    pattern.add(graph.command.E(nodes=(0,1)))\n",
    "    pattern.add(graph.command.E(nodes=(1,2)))\n",
    "    pattern.add(graph.command.E(nodes=(2,3)))\n",
    "    pattern.add(graph.command.E(nodes=(3,4)))\n",
    "    pattern.add(graph.command.E(nodes=(4,5)))\n",
    "    pattern.add(graph.command.E(nodes=(5,6)))\n",
    "\n",
    "    if loop:\n",
    "        pattern.add(graph.command.E(nodes=(0,5)))\n",
    "\n",
    "    pattern.add(graph.command.M(node=0, angle=0))\n",
    "    pattern.add(graph.command.X(node=1,domain=[0]))\n",
    "    pattern.add(graph.command.Z(node=2,domain=[0]))\n",
    "\n",
    "    pattern.add(graph.command.M(node=1,angle=x1/np.pi))\n",
    "    pattern.add(graph.command.X(node=2,domain=[1]))\n",
    "    pattern.add(graph.command.Z(node=3,domain=[1]))\n",
    "\n",
    "    pattern.add(graph.command.M(node=2,angle=0))\n",
    "    pattern.add(graph.command.X(node=3,domain=[2]))\n",
    "    pattern.add(graph.command.Z(node=4,domain=[2]))\n",
    "\n",
    "    pattern.add(graph.command.M(node=3,angle=x2/np.pi))\n",
    "    pattern.add(graph.command.X(node=4,domain=[3]))\n",
    "    pattern.add(graph.command.Z(node=5,domain=[3]))\n",
    "\n",
    "    pattern.add(graph.command.M(node=4,angle=0))\n",
    "    pattern.add(graph.command.X(node=5,domain=[4]))\n",
    "    pattern.add(graph.command.Z(node=6,domain=[4]))\n",
    "\n",
    "    pattern.add(graph.command.M(node=5,angle=x3/np.pi))\n",
    "    pattern.add(graph.command.X(node=6,domain=[5]))\n",
    "\n",
    "    res = pattern.simulate_pattern(input_state=graph.states.PlanarState(plane=graph.pauli.Plane.XZ, angle=0.6)).psi\n",
    "    p0 = np.round(np.abs(res[0])**2,decimals=4)\n",
    "    p1 = np.round(np.abs(res[1])**2,decimals=4)\n",
    "\n",
    "    return res\n",
    "\n",
    "for i in range(30):\n",
    "    x1,x2,x3 = np.random.uniform(0,2*np.pi,size=3)\n",
    "    print(np.linalg.norm(run_pattern_rough_continuous_psi(x1,x2,x3,loop=False) - run_pattern_rough_continuous_psi(x1,x2,x3,loop=True)))\n",
    "    print(run_pattern_rough_continuous_psi(x1,x2,x3,loop=False))\n",
    "    print(run_pattern_rough_continuous_psi(x1,x2,x3,loop=True))"
   ]
  }
 ],
 "metadata": {
  "kernelspec": {
   "display_name": ".venv",
   "language": "python",
   "name": "python3"
  },
  "language_info": {
   "codemirror_mode": {
    "name": "ipython",
    "version": 3
   },
   "file_extension": ".py",
   "mimetype": "text/x-python",
   "name": "python",
   "nbconvert_exporter": "python",
   "pygments_lexer": "ipython3",
   "version": "3.12.3"
  }
 },
 "nbformat": 4,
 "nbformat_minor": 2
}
